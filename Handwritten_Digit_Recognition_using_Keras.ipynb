{
 "cells": [
  {
   "cell_type": "markdown",
   "metadata": {},
   "source": [
    "# Data Description\n",
    "The data files train.csv and test.csv contain gray-scale images of hand-drawn digits, from zero through nine.\n",
    "\n",
    "Each image is 28 pixels in height and 28 pixels in width, for a total of 784 pixels in total. Each pixel has a single pixel-value associated with it, indicating the lightness or darkness of that pixel, with higher numbers meaning darker. This pixel-value is an integer between 0 and 255, inclusive.\n",
    "\n",
    "The training data set, (train.csv), has 785 columns. The first column, called \"label\", is the digit that was drawn by the user. The rest of the columns contain the pixel-values of the associated image.\n",
    "\n",
    "The test data set, (test.csv), is the same as the training set, except that it does not contain the \"label\" column.\n"
   ]
  },
  {
   "cell_type": "code",
   "execution_count": 2,
   "metadata": {},
   "outputs": [],
   "source": [
    "import pandas as pd\n",
    "import numpy as np\n",
    "np.random.seed(42)\n",
    "from keras import backend as K\n",
    "from keras.models import Sequential\n",
    "from keras.layers.core import Dense,Dropout,Activation,Flatten\n",
    "from keras.layers.convolutional import Conv2D,MaxPooling2D"
   ]
  },
  {
   "cell_type": "code",
   "execution_count": 3,
   "metadata": {
    "collapsed": true
   },
   "outputs": [],
   "source": [
    "#input image size\n",
    "img_rows,img_cols=28,28\n",
    "batch_Size=64\n",
    "classes=10\n",
    "epoch=10"
   ]
  },
  {
   "cell_type": "code",
   "execution_count": 4,
   "metadata": {
    "collapsed": true
   },
   "outputs": [],
   "source": [
    "train=pd.read_csv(\"C:/Users/sid/Desktop/Data_Science/Github_Codes/Handwritten/train.csv\").values\n",
    "test=pd.read_csv(\"C:/Users/sid/Desktop/Data_Science/Github_Codes/Handwritten/test.csv\").values"
   ]
  },
  {
   "cell_type": "code",
   "execution_count": 5,
   "metadata": {},
   "outputs": [],
   "source": [
    "#Reshaping it to a tensorflow object\n",
    "#reshaping to (number of samples,)\n",
    "X_train=train[:,1:].reshape(train.shape[0],img_rows,img_cols,1)\n",
    "\n",
    "X_test=test.reshape(test.shape[0],img_rows,img_cols,1)\n",
    "\n",
    "y_train=train[:,0]\n",
    "\n",
    "#Converting to floats\n",
    "X_train=X_train.astype('float32')\n",
    "\n",
    "X_test=X_test.astype('float32')\n",
    "\n",
    "#Standardizing\n",
    "X_train/=255\n",
    "X_test/=255\n"
   ]
  },
  {
   "cell_type": "code",
   "execution_count": 6,
   "metadata": {
    "collapsed": true
   },
   "outputs": [],
   "source": [
    "#convert outputs to binary class matrices ( one-hot vectors)\n",
    "from keras.utils import np_utils\n",
    "\n",
    "Y_train=np_utils.to_categorical(y_train,classes)"
   ]
  },
  {
   "cell_type": "code",
   "execution_count": 7,
   "metadata": {},
   "outputs": [
    {
     "name": "stdout",
     "output_type": "stream",
     "text": [
      "X_train shape: (42000, 28, 28, 1)\n",
      "Y_train shape: (42000, 10)\n",
      "X_test shape: (28000, 28, 28, 1)\n"
     ]
    }
   ],
   "source": [
    "print('X_train shape:', X_train.shape)\n",
    "print('Y_train shape:', Y_train.shape)\n",
    "print('X_test shape:', X_test.shape)"
   ]
  },
  {
   "cell_type": "code",
   "execution_count": 8,
   "metadata": {},
   "outputs": [
    {
     "name": "stderr",
     "output_type": "stream",
     "text": [
      "C:\\Users\\sid\\Anaconda3\\lib\\site-packages\\ipykernel_launcher.py:4: UserWarning: Update your `Conv2D` call to the Keras 2 API: `Conv2D(12, (5, 5), activation=\"relu\", input_shape=(28, 28, 1..., kernel_initializer=\"he_normal\")`\n",
      "  after removing the cwd from sys.path.\n",
      "C:\\Users\\sid\\Anaconda3\\lib\\site-packages\\ipykernel_launcher.py:6: UserWarning: Update your `Conv2D` call to the Keras 2 API: `Conv2D(25, (5, 5), activation=\"relu\", kernel_initializer=\"he_normal\")`\n",
      "  \n"
     ]
    },
    {
     "name": "stdout",
     "output_type": "stream",
     "text": [
      "WARNING:tensorflow:From C:\\Users\\sid\\Anaconda3\\lib\\site-packages\\keras\\backend\\tensorflow_backend.py:1255: calling reduce_prod (from tensorflow.python.ops.math_ops) with keep_dims is deprecated and will be removed in a future version.\n",
      "Instructions for updating:\n",
      "keep_dims is deprecated, use keepdims instead\n"
     ]
    }
   ],
   "source": [
    "model=Sequential()\n",
    "#By default the stride/subsample is 1 and there is no zero-padding.\n",
    "in_Shape=(img_rows,img_cols,1)\n",
    "model.add(Conv2D(12, 5, 5, activation = 'relu', input_shape=in_Shape, kernel_initializer='he_normal'))\n",
    "model.add(MaxPooling2D(pool_size=(2, 2)))\n",
    "model.add(Conv2D(25, 5, 5, activation = 'relu', kernel_initializer='he_normal'))\n",
    "model.add(MaxPooling2D(pool_size=(2, 2)))\n",
    "model.add(Flatten())\n",
    "model.add(Dense(180, activation = 'relu', kernel_initializer='he_normal'))\n",
    "model.add(Dropout(0.5))\n",
    "model.add(Dense(100, activation = 'relu', kernel_initializer='he_normal'))\n",
    "model.add(Dropout(0.5))\n",
    "\n",
    "model.add(Dense(classes, activation = 'softmax', kernel_initializer='he_normal'))"
   ]
  },
  {
   "cell_type": "code",
   "execution_count": 9,
   "metadata": {},
   "outputs": [
    {
     "name": "stdout",
     "output_type": "stream",
     "text": [
      "WARNING:tensorflow:From C:\\Users\\sid\\Anaconda3\\lib\\site-packages\\keras\\backend\\tensorflow_backend.py:2857: calling reduce_sum (from tensorflow.python.ops.math_ops) with keep_dims is deprecated and will be removed in a future version.\n",
      "Instructions for updating:\n",
      "keep_dims is deprecated, use keepdims instead\n",
      "WARNING:tensorflow:From C:\\Users\\sid\\Anaconda3\\lib\\site-packages\\keras\\backend\\tensorflow_backend.py:1340: calling reduce_mean (from tensorflow.python.ops.math_ops) with keep_dims is deprecated and will be removed in a future version.\n",
      "Instructions for updating:\n",
      "keep_dims is deprecated, use keepdims instead\n"
     ]
    }
   ],
   "source": [
    "model.compile(loss='categorical_crossentropy', optimizer='Adamax', metrics=[\"accuracy\"])"
   ]
  },
  {
   "cell_type": "code",
   "execution_count": 10,
   "metadata": {},
   "outputs": [
    {
     "name": "stdout",
     "output_type": "stream",
     "text": [
      "Epoch 1/10\n",
      "42000/42000 [==============================] - 43s 1ms/step - loss: 0.5897 - acc: 0.8121: 1s \n",
      "Epoch 2/10\n",
      "42000/42000 [==============================] - 37s 874us/step - loss: 0.1913 - acc: 0.9458\n",
      "Epoch 3/10\n",
      "42000/42000 [==============================] - 40s 964us/step - loss: 0.1414 - acc: 0.9608\n",
      "Epoch 4/10\n",
      "42000/42000 [==============================] - 41s 981us/step - loss: 0.1123 - acc: 0.9679\n",
      "Epoch 5/10\n",
      "42000/42000 [==============================] - 41s 976us/step - loss: 0.0955 - acc: 0.9736\n",
      "Epoch 6/10\n",
      "42000/42000 [==============================] - 41s 979us/step - loss: 0.0839 - acc: 0.9773\n",
      "Epoch 7/10\n",
      "42000/42000 [==============================] - 42s 1ms/step - loss: 0.0737 - acc: 0.9805\n",
      "Epoch 8/10\n",
      "42000/42000 [==============================] - 40s 963us/step - loss: 0.0656 - acc: 0.9821\n",
      "Epoch 9/10\n",
      "42000/42000 [==============================] - 41s 978us/step - loss: 0.0602 - acc: 0.9831\n",
      "Epoch 10/10\n",
      "42000/42000 [==============================] - 41s 973us/step - loss: 0.0559 - acc: 0.9847\n"
     ]
    },
    {
     "data": {
      "text/plain": [
       "<keras.callbacks.History at 0x1bd0948e470>"
      ]
     },
     "execution_count": 10,
     "metadata": {},
     "output_type": "execute_result"
    }
   ],
   "source": [
    "model.fit(X_train, Y_train, batch_size=batch_Size, epochs=epoch, verbose=1)"
   ]
  },
  {
   "cell_type": "code",
   "execution_count": 11,
   "metadata": {},
   "outputs": [
    {
     "name": "stdout",
     "output_type": "stream",
     "text": [
      "28000/28000 [==============================] - 12s 434us/step\n"
     ]
    }
   ],
   "source": [
    "yPred = model.predict_classes(X_test)"
   ]
  }
 ],
 "metadata": {
  "kernelspec": {
   "display_name": "Python 3",
   "language": "python",
   "name": "python3"
  },
  "language_info": {
   "codemirror_mode": {
    "name": "ipython",
    "version": 3
   },
   "file_extension": ".py",
   "mimetype": "text/x-python",
   "name": "python",
   "nbconvert_exporter": "python",
   "pygments_lexer": "ipython3",
   "version": "3.6.3"
  }
 },
 "nbformat": 4,
 "nbformat_minor": 2
}
